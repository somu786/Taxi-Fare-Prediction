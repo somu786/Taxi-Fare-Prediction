{
 "cells": [
  {
   "cell_type": "code",
   "execution_count": 1,
   "id": "b80fb98a",
   "metadata": {},
   "outputs": [],
   "source": [
    "import pandas as pd\n",
    "import numpy as np\n",
    "import seaborn as sns\n",
    "from scipy import stats\n",
    "import matplotlib.pyplot as plt\n",
    "from sklearn.model_selection import train_test_split\n",
    "from scipy.stats import pearsonr\n",
    "from sklearn.preprocessing import MinMaxScaler\n",
    "from sklearn.linear_model import LinearRegression\n",
    "from sklearn.tree import DecisionTreeRegressor\n",
    "from sklearn.ensemble import RandomForestRegressor\n",
    "from sklearn.ensemble import GradientBoostingRegressor\n",
    "from sklearn.ensemble import AdaBoostRegressor\n",
    "from sklearn.linear_model import Ridge\n",
    "from sklearn.metrics import mean_squared_error\n",
    "import xgboost as xgb\n",
    "import plotly.express as px\n",
    "from sklearn.model_selection import cross_val_score,KFold\n",
    "from sklearn.metrics import r2_score\n",
    "from tabulate import tabulate\n",
    "from sklearn.model_selection import GridSearchCV\n",
    "import warnings\n",
    "from sklearn.decomposition import PCA\n",
    "warnings.filterwarnings('ignore')"
   ]
  },
  {
   "cell_type": "code",
   "execution_count": 2,
   "id": "c57778c0",
   "metadata": {},
   "outputs": [],
   "source": [
    "df = pd.read_csv(\"C:/Users/raman/Imarticus/workSpace/Taxi Fare Prediction/Dataset/TaxiFare.csv\")"
   ]
  },
  {
   "cell_type": "code",
   "execution_count": 3,
   "id": "885dff3b",
   "metadata": {},
   "outputs": [
    {
     "data": {
      "text/html": [
       "<div>\n",
       "<style scoped>\n",
       "    .dataframe tbody tr th:only-of-type {\n",
       "        vertical-align: middle;\n",
       "    }\n",
       "\n",
       "    .dataframe tbody tr th {\n",
       "        vertical-align: top;\n",
       "    }\n",
       "\n",
       "    .dataframe thead th {\n",
       "        text-align: right;\n",
       "    }\n",
       "</style>\n",
       "<table border=\"1\" class=\"dataframe\">\n",
       "  <thead>\n",
       "    <tr style=\"text-align: right;\">\n",
       "      <th></th>\n",
       "      <th>unique_id</th>\n",
       "      <th>amount</th>\n",
       "      <th>date_time_of_pickup</th>\n",
       "      <th>longitude_of_pickup</th>\n",
       "      <th>latitude_of_pickup</th>\n",
       "      <th>longitude_of_dropoff</th>\n",
       "      <th>latitude_of_dropoff</th>\n",
       "      <th>no_of_passenger</th>\n",
       "    </tr>\n",
       "  </thead>\n",
       "  <tbody>\n",
       "    <tr>\n",
       "      <th>0</th>\n",
       "      <td>26:21.0</td>\n",
       "      <td>4.5</td>\n",
       "      <td>2009-06-15 17:26:21 UTC</td>\n",
       "      <td>-73.844311</td>\n",
       "      <td>40.721319</td>\n",
       "      <td>-73.841610</td>\n",
       "      <td>40.712278</td>\n",
       "      <td>1</td>\n",
       "    </tr>\n",
       "    <tr>\n",
       "      <th>1</th>\n",
       "      <td>52:16.0</td>\n",
       "      <td>16.9</td>\n",
       "      <td>2010-01-05 16:52:16 UTC</td>\n",
       "      <td>-74.016048</td>\n",
       "      <td>40.711303</td>\n",
       "      <td>-73.979268</td>\n",
       "      <td>40.782004</td>\n",
       "      <td>1</td>\n",
       "    </tr>\n",
       "    <tr>\n",
       "      <th>2</th>\n",
       "      <td>35:00.0</td>\n",
       "      <td>5.7</td>\n",
       "      <td>2011-08-18 00:35:00 UTC</td>\n",
       "      <td>-73.982738</td>\n",
       "      <td>40.761270</td>\n",
       "      <td>-73.991242</td>\n",
       "      <td>40.750562</td>\n",
       "      <td>2</td>\n",
       "    </tr>\n",
       "    <tr>\n",
       "      <th>3</th>\n",
       "      <td>30:42.0</td>\n",
       "      <td>7.7</td>\n",
       "      <td>2012-04-21 04:30:42 UTC</td>\n",
       "      <td>-73.987130</td>\n",
       "      <td>40.733143</td>\n",
       "      <td>-73.991567</td>\n",
       "      <td>40.758092</td>\n",
       "      <td>1</td>\n",
       "    </tr>\n",
       "    <tr>\n",
       "      <th>4</th>\n",
       "      <td>51:00.0</td>\n",
       "      <td>5.3</td>\n",
       "      <td>2010-03-09 07:51:00 UTC</td>\n",
       "      <td>-73.968095</td>\n",
       "      <td>40.768008</td>\n",
       "      <td>-73.956655</td>\n",
       "      <td>40.783762</td>\n",
       "      <td>1</td>\n",
       "    </tr>\n",
       "  </tbody>\n",
       "</table>\n",
       "</div>"
      ],
      "text/plain": [
       "  unique_id  amount      date_time_of_pickup  longitude_of_pickup  \\\n",
       "0   26:21.0     4.5  2009-06-15 17:26:21 UTC           -73.844311   \n",
       "1   52:16.0    16.9  2010-01-05 16:52:16 UTC           -74.016048   \n",
       "2   35:00.0     5.7  2011-08-18 00:35:00 UTC           -73.982738   \n",
       "3   30:42.0     7.7  2012-04-21 04:30:42 UTC           -73.987130   \n",
       "4   51:00.0     5.3  2010-03-09 07:51:00 UTC           -73.968095   \n",
       "\n",
       "   latitude_of_pickup  longitude_of_dropoff  latitude_of_dropoff  \\\n",
       "0           40.721319            -73.841610            40.712278   \n",
       "1           40.711303            -73.979268            40.782004   \n",
       "2           40.761270            -73.991242            40.750562   \n",
       "3           40.733143            -73.991567            40.758092   \n",
       "4           40.768008            -73.956655            40.783762   \n",
       "\n",
       "   no_of_passenger  \n",
       "0                1  \n",
       "1                1  \n",
       "2                2  \n",
       "3                1  \n",
       "4                1  "
      ]
     },
     "execution_count": 3,
     "metadata": {},
     "output_type": "execute_result"
    }
   ],
   "source": [
    "df.head()"
   ]
  },
  {
   "cell_type": "code",
   "execution_count": 5,
   "id": "4b1cd071",
   "metadata": {},
   "outputs": [
    {
     "data": {
      "text/plain": [
       "(50000, 8)"
      ]
     },
     "execution_count": 5,
     "metadata": {},
     "output_type": "execute_result"
    }
   ],
   "source": [
    "df.shape"
   ]
  },
  {
   "cell_type": "code",
   "execution_count": 6,
   "id": "6d8b8f2b",
   "metadata": {},
   "outputs": [
    {
     "data": {
      "text/plain": [
       "Index(['unique_id', 'amount', 'date_time_of_pickup', 'longitude_of_pickup',\n",
       "       'latitude_of_pickup', 'longitude_of_dropoff', 'latitude_of_dropoff',\n",
       "       'no_of_passenger'],\n",
       "      dtype='object')"
      ]
     },
     "execution_count": 6,
     "metadata": {},
     "output_type": "execute_result"
    }
   ],
   "source": [
    "df.columns"
   ]
  },
  {
   "cell_type": "code",
   "execution_count": 7,
   "id": "4a66aa76",
   "metadata": {},
   "outputs": [
    {
     "data": {
      "text/plain": [
       "unique_id               0\n",
       "amount                  0\n",
       "date_time_of_pickup     0\n",
       "longitude_of_pickup     0\n",
       "latitude_of_pickup      0\n",
       "longitude_of_dropoff    0\n",
       "latitude_of_dropoff     0\n",
       "no_of_passenger         0\n",
       "dtype: int64"
      ]
     },
     "execution_count": 7,
     "metadata": {},
     "output_type": "execute_result"
    }
   ],
   "source": [
    "df.isnull().sum()"
   ]
  },
  {
   "cell_type": "code",
   "execution_count": 133,
   "id": "12ed8a39",
   "metadata": {
    "scrolled": true
   },
   "outputs": [
    {
     "name": "stdout",
     "output_type": "stream",
     "text": [
      "<class 'pandas.core.frame.DataFrame'>\n",
      "RangeIndex: 50000 entries, 0 to 49999\n",
      "Data columns (total 8 columns):\n",
      " #   Column                Non-Null Count  Dtype  \n",
      "---  ------                --------------  -----  \n",
      " 0   unique_id             50000 non-null  object \n",
      " 1   amount                50000 non-null  float64\n",
      " 2   date_time_of_pickup   50000 non-null  object \n",
      " 3   longitude_of_pickup   50000 non-null  float64\n",
      " 4   latitude_of_pickup    50000 non-null  float64\n",
      " 5   longitude_of_dropoff  50000 non-null  float64\n",
      " 6   latitude_of_dropoff   50000 non-null  float64\n",
      " 7   no_of_passenger       50000 non-null  int64  \n",
      "dtypes: float64(5), int64(1), object(2)\n",
      "memory usage: 3.1+ MB\n"
     ]
    }
   ],
   "source": [
    "df.info()"
   ]
  },
  {
   "cell_type": "code",
   "execution_count": 18,
   "id": "6b16ace8",
   "metadata": {},
   "outputs": [
    {
     "data": {
      "text/html": [
       "<div>\n",
       "<style scoped>\n",
       "    .dataframe tbody tr th:only-of-type {\n",
       "        vertical-align: middle;\n",
       "    }\n",
       "\n",
       "    .dataframe tbody tr th {\n",
       "        vertical-align: top;\n",
       "    }\n",
       "\n",
       "    .dataframe thead th {\n",
       "        text-align: right;\n",
       "    }\n",
       "</style>\n",
       "<table border=\"1\" class=\"dataframe\">\n",
       "  <thead>\n",
       "    <tr style=\"text-align: right;\">\n",
       "      <th></th>\n",
       "      <th>count</th>\n",
       "      <th>mean</th>\n",
       "      <th>std</th>\n",
       "      <th>min</th>\n",
       "      <th>25%</th>\n",
       "      <th>50%</th>\n",
       "      <th>75%</th>\n",
       "      <th>max</th>\n",
       "    </tr>\n",
       "  </thead>\n",
       "  <tbody>\n",
       "    <tr>\n",
       "      <th>amount</th>\n",
       "      <td>50000.0</td>\n",
       "      <td>11.364171</td>\n",
       "      <td>9.685557</td>\n",
       "      <td>-5.000000</td>\n",
       "      <td>6.000000</td>\n",
       "      <td>8.500000</td>\n",
       "      <td>12.500000</td>\n",
       "      <td>200.000000</td>\n",
       "    </tr>\n",
       "    <tr>\n",
       "      <th>longitude_of_pickup</th>\n",
       "      <td>50000.0</td>\n",
       "      <td>-72.509756</td>\n",
       "      <td>10.393860</td>\n",
       "      <td>-75.423848</td>\n",
       "      <td>-73.992062</td>\n",
       "      <td>-73.981840</td>\n",
       "      <td>-73.967148</td>\n",
       "      <td>40.783472</td>\n",
       "    </tr>\n",
       "    <tr>\n",
       "      <th>latitude_of_pickup</th>\n",
       "      <td>50000.0</td>\n",
       "      <td>39.933759</td>\n",
       "      <td>6.224857</td>\n",
       "      <td>-74.006893</td>\n",
       "      <td>40.734880</td>\n",
       "      <td>40.752678</td>\n",
       "      <td>40.767360</td>\n",
       "      <td>401.083332</td>\n",
       "    </tr>\n",
       "    <tr>\n",
       "      <th>longitude_of_dropoff</th>\n",
       "      <td>50000.0</td>\n",
       "      <td>-72.504616</td>\n",
       "      <td>10.407570</td>\n",
       "      <td>-84.654241</td>\n",
       "      <td>-73.991152</td>\n",
       "      <td>-73.980082</td>\n",
       "      <td>-73.963584</td>\n",
       "      <td>40.851027</td>\n",
       "    </tr>\n",
       "    <tr>\n",
       "      <th>latitude_of_dropoff</th>\n",
       "      <td>50000.0</td>\n",
       "      <td>39.926251</td>\n",
       "      <td>6.014737</td>\n",
       "      <td>-74.006377</td>\n",
       "      <td>40.734372</td>\n",
       "      <td>40.753372</td>\n",
       "      <td>40.768167</td>\n",
       "      <td>43.415190</td>\n",
       "    </tr>\n",
       "    <tr>\n",
       "      <th>no_of_passenger</th>\n",
       "      <td>50000.0</td>\n",
       "      <td>1.667840</td>\n",
       "      <td>1.289195</td>\n",
       "      <td>0.000000</td>\n",
       "      <td>1.000000</td>\n",
       "      <td>1.000000</td>\n",
       "      <td>2.000000</td>\n",
       "      <td>6.000000</td>\n",
       "    </tr>\n",
       "  </tbody>\n",
       "</table>\n",
       "</div>"
      ],
      "text/plain": [
       "                        count       mean        std        min        25%  \\\n",
       "amount                50000.0  11.364171   9.685557  -5.000000   6.000000   \n",
       "longitude_of_pickup   50000.0 -72.509756  10.393860 -75.423848 -73.992062   \n",
       "latitude_of_pickup    50000.0  39.933759   6.224857 -74.006893  40.734880   \n",
       "longitude_of_dropoff  50000.0 -72.504616  10.407570 -84.654241 -73.991152   \n",
       "latitude_of_dropoff   50000.0  39.926251   6.014737 -74.006377  40.734372   \n",
       "no_of_passenger       50000.0   1.667840   1.289195   0.000000   1.000000   \n",
       "\n",
       "                            50%        75%         max  \n",
       "amount                 8.500000  12.500000  200.000000  \n",
       "longitude_of_pickup  -73.981840 -73.967148   40.783472  \n",
       "latitude_of_pickup    40.752678  40.767360  401.083332  \n",
       "longitude_of_dropoff -73.980082 -73.963584   40.851027  \n",
       "latitude_of_dropoff   40.753372  40.768167   43.415190  \n",
       "no_of_passenger        1.000000   2.000000    6.000000  "
      ]
     },
     "execution_count": 18,
     "metadata": {},
     "output_type": "execute_result"
    }
   ],
   "source": [
    "df.describe().transpose()"
   ]
  },
  {
   "cell_type": "code",
   "execution_count": 16,
   "id": "cf432379",
   "metadata": {},
   "outputs": [
    {
     "data": {
      "text/plain": [
       "<AxesSubplot:>"
      ]
     },
     "execution_count": 16,
     "metadata": {},
     "output_type": "execute_result"
    },
    {
     "data": {
      "image/png": "[encoded data removed]",
      "text/plain": [
       "<Figure size 432x288 with 1 Axes>"
      ]
     },
     "metadata": {
      "needs_background": "light"
     },
     "output_type": "display_data"
    }
   ],
   "source": [
    "sns.boxplot(data=df.longitude_of_pickup)"
   ]
  },
  {
   "cell_type": "code",
   "execution_count": 17,
   "id": "96aaf197",
   "metadata": {},
   "outputs": [
    {
     "data": {
      "text/plain": [
       "33716"
      ]
     },
     "execution_count": 17,
     "metadata": {},
     "output_type": "execute_result"
    }
   ],
   "source": [
    "df.longitude_of_pickup."
   ]
  },
  {
   "cell_type": "code",
   "execution_count": 125,
   "id": "10c65d69",
   "metadata": {},
   "outputs": [],
   "source": [
    "q3 = df[\"longitude_of_pickup\"].quantile(0.75)  \n",
    "q1 = df[\"longitude_of_pickup\"].quantile(0.25)\n",
    "IQR = q3 - q1\n",
    "lower_limit = q1 - (IQR * 1.5)\n",
    "upper_limit = q3 + (IQR * 1.5)\n",
    "df['longitude_of_pickup'] = np.where(df['longitude_of_pickup'] >= upper_limit,upper_limit,np.where(df['longitude_of_pickup'] <= lower_limit,lower_limit,df['longitude_of_pickup']))"
   ]
  },
  {
   "cell_type": "code",
   "execution_count": 22,
   "id": "86342337",
   "metadata": {},
   "outputs": [
    {
     "data": {
      "text/plain": [
       "<AxesSubplot:>"
      ]
     },
     "execution_count": 22,
     "metadata": {},
     "output_type": "execute_result"
    },
    {
     "data": {
      "image/png": "[encoded data removed]",
      "text/plain": [
       "<Figure size 432x288 with 1 Axes>"
      ]
     },
     "metadata": {
      "needs_background": "light"
     },
     "output_type": "display_data"
    }
   ],
   "source": [
    "sns.boxplot(data=df.longitude_of_pickup)"
   ]
  },
  {
   "cell_type": "code",
   "execution_count": 23,
   "id": "f888b95e",
   "metadata": {},
   "outputs": [
    {
     "name": "stdout",
     "output_type": "stream",
     "text": [
      "<class 'pandas.core.frame.DataFrame'>\n",
      "RangeIndex: 50000 entries, 0 to 49999\n",
      "Data columns (total 8 columns):\n",
      " #   Column                Non-Null Count  Dtype  \n",
      "---  ------                --------------  -----  \n",
      " 0   unique_id             50000 non-null  object \n",
      " 1   amount                50000 non-null  float64\n",
      " 2   date_time_of_pickup   50000 non-null  object \n",
      " 3   longitude_of_pickup   50000 non-null  float64\n",
      " 4   latitude_of_pickup    50000 non-null  float64\n",
      " 5   longitude_of_dropoff  50000 non-null  float64\n",
      " 6   latitude_of_dropoff   50000 non-null  float64\n",
      " 7   no_of_passenger       50000 non-null  int64  \n",
      "dtypes: float64(5), int64(1), object(2)\n",
      "memory usage: 3.1+ MB\n"
     ]
    }
   ],
   "source": [
    "df.info()"
   ]
  },
  {
   "cell_type": "code",
   "execution_count": 24,
   "id": "5830eecf",
   "metadata": {},
   "outputs": [
    {
     "data": {
      "text/plain": [
       "36594"
      ]
     },
     "execution_count": 24,
     "metadata": {},
     "output_type": "execute_result"
    }
   ],
   "source": [
    "df.latitude_of_pickup.nunique()"
   ]
  },
  {
   "cell_type": "code",
   "execution_count": 25,
   "id": "f281ba44",
   "metadata": {},
   "outputs": [
    {
     "data": {
      "text/plain": [
       "<AxesSubplot:>"
      ]
     },
     "execution_count": 25,
     "metadata": {},
     "output_type": "execute_result"
    },
    {
     "data": {
      "image/png": "[encoded data removed]",
      "text/plain": [
       "<Figure size 432x288 with 1 Axes>"
      ]
     },
     "metadata": {
      "needs_background": "light"
     },
     "output_type": "display_data"
    }
   ],
   "source": [
    "sns.boxplot(data=df.latitude_of_pickup)"
   ]
  },
  {
   "cell_type": "code",
   "execution_count": 126,
   "id": "4e7f75ac",
   "metadata": {},
   "outputs": [],
   "source": [
    "q3 = df[\"latitude_of_pickup\"].quantile(0.75)  \n",
    "q1 = df[\"latitude_of_pickup\"].quantile(0.25)\n",
    "IQR = q3 - q1\n",
    "lower_limit = q1 - (IQR * 1.5)\n",
    "upper_limit = q3 + (IQR * 1.5)\n",
    "df['latitude_of_pickup'] = np.where(df['latitude_of_pickup'] >= upper_limit,upper_limit,np.where(df['latitude_of_pickup'] <= lower_limit,lower_limit,df['latitude_of_pickup']))"
   ]
  },
  {
   "cell_type": "code",
   "execution_count": 27,
   "id": "0c0dbb35",
   "metadata": {},
   "outputs": [
    {
     "data": {
      "text/plain": [
       "<AxesSubplot:>"
      ]
     },
     "execution_count": 27,
     "metadata": {},
     "output_type": "execute_result"
    },
    {
     "data": {
      "image/png": "[encoded data removed]",
      "text/plain": [
       "<Figure size 432x288 with 1 Axes>"
      ]
     },
     "metadata": {
      "needs_background": "light"
     },
     "output_type": "display_data"
    }
   ],
   "source": [
    "sns.boxplot(data=df.latitude_of_pickup)"
   ]
  },
  {
   "cell_type": "code",
   "execution_count": 28,
   "id": "0fb6ead1",
   "metadata": {},
   "outputs": [
    {
     "data": {
      "text/plain": [
       "<AxesSubplot:>"
      ]
     },
     "execution_count": 28,
     "metadata": {},
     "output_type": "execute_result"
    },
    {
     "data": {
      "image/png": "[encoded data removed]",
      "text/plain": [
       "<Figure size 432x288 with 1 Axes>"
      ]
     },
     "metadata": {
      "needs_background": "light"
     },
     "output_type": "display_data"
    }
   ],
   "source": [
    "sns.boxplot(data=df.longitude_of_dropoff)"
   ]
  },
  {
   "cell_type": "code",
   "execution_count": 127,
   "id": "b2b8f643",
   "metadata": {},
   "outputs": [],
   "source": [
    "q3 = df[\"longitude_of_dropoff\"].quantile(0.75)  \n",
    "q1 = df[\"longitude_of_dropoff\"].quantile(0.25)\n",
    "IQR = q3 - q1\n",
    "lower_limit = q1 - (IQR * 1.5)\n",
    "upper_limit = q3 + (IQR * 1.5)\n",
    "df['longitude_of_dropoff'] = np.where(df['longitude_of_dropoff'] >= upper_limit,upper_limit,np.where(df['longitude_of_dropoff'] <= lower_limit,lower_limit,df['longitude_of_dropoff']))"
   ]
  },
  {
   "cell_type": "code",
   "execution_count": 30,
   "id": "fe750b4e",
   "metadata": {},
   "outputs": [
    {
     "data": {
      "text/plain": [
       "<AxesSubplot:>"
      ]
     },
     "execution_count": 30,
     "metadata": {},
     "output_type": "execute_result"
    },
    {
     "data": {
      "image/png": "[encoded data removed]",
      "text/plain": [
       "<Figure size 432x288 with 1 Axes>"
      ]
     },
     "metadata": {
      "needs_background": "light"
     },
     "output_type": "display_data"
    }
   ],
   "source": [
    "sns.boxplot(data=df.longitude_of_dropoff)"
   ]
  },
  {
   "cell_type": "code",
   "execution_count": 31,
   "id": "54fe1b04",
   "metadata": {},
   "outputs": [
    {
     "data": {
      "text/plain": [
       "<AxesSubplot:>"
      ]
     },
     "execution_count": 31,
     "metadata": {},
     "output_type": "execute_result"
    },
    {
     "data": {
      "image/png": "[encoded data removed]",
      "text/plain": [
       "<Figure size 432x288 with 1 Axes>"
      ]
     },
     "metadata": {
      "needs_background": "light"
     },
     "output_type": "display_data"
    }
   ],
   "source": [
    "sns.boxplot(data=df.no_of_passenger)"
   ]
  },
  {
   "cell_type": "code",
   "execution_count": 128,
   "id": "f67d1ff5",
   "metadata": {},
   "outputs": [],
   "source": [
    "q3 = df[\"no_of_passenger\"].quantile(0.75)  \n",
    "q1 = df[\"no_of_passenger\"].quantile(0.25)\n",
    "IQR = q3 - q1\n",
    "lower_limit = q1 - (IQR * 1.5)\n",
    "upper_limit = q3 + (IQR * 1.5)\n",
    "df['no_of_passenger'] = np.where(df['no_of_passenger'] >= upper_limit,upper_limit,np.where(df['no_of_passenger'] <= lower_limit,lower_limit,df['no_of_passenger']))"
   ]
  },
  {
   "cell_type": "code",
   "execution_count": 33,
   "id": "c55f8976",
   "metadata": {},
   "outputs": [
    {
     "data": {
      "text/plain": [
       "<AxesSubplot:>"
      ]
     },
     "execution_count": 33,
     "metadata": {},
     "output_type": "execute_result"
    },
    {
     "data": {
      "image/png": "[encoded data removed]",
      "text/plain": [
       "<Figure size 432x288 with 1 Axes>"
      ]
     },
     "metadata": {
      "needs_background": "light"
     },
     "output_type": "display_data"
    }
   ],
   "source": [
    "sns.boxplot(data=df.no_of_passenger)"
   ]
  },
  {
   "cell_type": "code",
   "execution_count": 34,
   "id": "0edd409a",
   "metadata": {},
   "outputs": [
    {
     "data": {
      "text/html": [
       "<div>\n",
       "<style scoped>\n",
       "    .dataframe tbody tr th:only-of-type {\n",
       "        vertical-align: middle;\n",
       "    }\n",
       "\n",
       "    .dataframe tbody tr th {\n",
       "        vertical-align: top;\n",
       "    }\n",
       "\n",
       "    .dataframe thead th {\n",
       "        text-align: right;\n",
       "    }\n",
       "</style>\n",
       "<table border=\"1\" class=\"dataframe\">\n",
       "  <thead>\n",
       "    <tr style=\"text-align: right;\">\n",
       "      <th></th>\n",
       "      <th>unique_id</th>\n",
       "      <th>amount</th>\n",
       "      <th>date_time_of_pickup</th>\n",
       "      <th>longitude_of_pickup</th>\n",
       "      <th>latitude_of_pickup</th>\n",
       "      <th>longitude_of_dropoff</th>\n",
       "      <th>latitude_of_dropoff</th>\n",
       "      <th>no_of_passenger</th>\n",
       "    </tr>\n",
       "  </thead>\n",
       "  <tbody>\n",
       "    <tr>\n",
       "      <th>0</th>\n",
       "      <td>26:21.0</td>\n",
       "      <td>4.5</td>\n",
       "      <td>2009-06-15 17:26:21 UTC</td>\n",
       "      <td>-73.929777</td>\n",
       "      <td>40.721319</td>\n",
       "      <td>-73.922231</td>\n",
       "      <td>40.712278</td>\n",
       "      <td>1.0</td>\n",
       "    </tr>\n",
       "    <tr>\n",
       "      <th>1</th>\n",
       "      <td>52:16.0</td>\n",
       "      <td>16.9</td>\n",
       "      <td>2010-01-05 16:52:16 UTC</td>\n",
       "      <td>-74.016048</td>\n",
       "      <td>40.711303</td>\n",
       "      <td>-73.979268</td>\n",
       "      <td>40.782004</td>\n",
       "      <td>1.0</td>\n",
       "    </tr>\n",
       "    <tr>\n",
       "      <th>2</th>\n",
       "      <td>35:00.0</td>\n",
       "      <td>5.7</td>\n",
       "      <td>2011-08-18 00:35:00 UTC</td>\n",
       "      <td>-73.982738</td>\n",
       "      <td>40.761270</td>\n",
       "      <td>-73.991242</td>\n",
       "      <td>40.750562</td>\n",
       "      <td>2.0</td>\n",
       "    </tr>\n",
       "    <tr>\n",
       "      <th>3</th>\n",
       "      <td>30:42.0</td>\n",
       "      <td>7.7</td>\n",
       "      <td>2012-04-21 04:30:42 UTC</td>\n",
       "      <td>-73.987130</td>\n",
       "      <td>40.733143</td>\n",
       "      <td>-73.991567</td>\n",
       "      <td>40.758092</td>\n",
       "      <td>1.0</td>\n",
       "    </tr>\n",
       "    <tr>\n",
       "      <th>4</th>\n",
       "      <td>51:00.0</td>\n",
       "      <td>5.3</td>\n",
       "      <td>2010-03-09 07:51:00 UTC</td>\n",
       "      <td>-73.968095</td>\n",
       "      <td>40.768008</td>\n",
       "      <td>-73.956655</td>\n",
       "      <td>40.783762</td>\n",
       "      <td>1.0</td>\n",
       "    </tr>\n",
       "  </tbody>\n",
       "</table>\n",
       "</div>"
      ],
      "text/plain": [
       "  unique_id  amount      date_time_of_pickup  longitude_of_pickup  \\\n",
       "0   26:21.0     4.5  2009-06-15 17:26:21 UTC           -73.929777   \n",
       "1   52:16.0    16.9  2010-01-05 16:52:16 UTC           -74.016048   \n",
       "2   35:00.0     5.7  2011-08-18 00:35:00 UTC           -73.982738   \n",
       "3   30:42.0     7.7  2012-04-21 04:30:42 UTC           -73.987130   \n",
       "4   51:00.0     5.3  2010-03-09 07:51:00 UTC           -73.968095   \n",
       "\n",
       "   latitude_of_pickup  longitude_of_dropoff  latitude_of_dropoff  \\\n",
       "0           40.721319            -73.922231            40.712278   \n",
       "1           40.711303            -73.979268            40.782004   \n",
       "2           40.761270            -73.991242            40.750562   \n",
       "3           40.733143            -73.991567            40.758092   \n",
       "4           40.768008            -73.956655            40.783762   \n",
       "\n",
       "   no_of_passenger  \n",
       "0              1.0  \n",
       "1              1.0  \n",
       "2              2.0  \n",
       "3              1.0  \n",
       "4              1.0  "
      ]
     },
     "execution_count": 34,
     "metadata": {},
     "output_type": "execute_result"
    }
   ],
   "source": [
    "df.head()"
   ]
  },
  {
   "cell_type": "code",
   "execution_count": 36,
   "id": "8172f090",
   "metadata": {},
   "outputs": [],
   "source": [
    "numerical_features = [feature for feature in df.columns if df[feature].dtypes != 'O' and feature!='amount']"
   ]
  },
  {
   "cell_type": "code",
   "execution_count": 37,
   "id": "70794b6f",
   "metadata": {},
   "outputs": [
    {
     "data": {
      "text/plain": [
       "['longitude_of_pickup',\n",
       " 'latitude_of_pickup',\n",
       " 'longitude_of_dropoff',\n",
       " 'latitude_of_dropoff',\n",
       " 'no_of_passenger']"
      ]
     },
     "execution_count": 37,
     "metadata": {},
     "output_type": "execute_result"
    }
   ],
   "source": [
    "numerical_features"
   ]
  },
  {
   "cell_type": "code",
   "execution_count": 131,
   "id": "fd6bc21c",
   "metadata": {},
   "outputs": [
    {
     "name": "stdout",
     "output_type": "stream",
     "text": [
      "\n",
      "Correlation between amount and longitude_of_pickup :\n",
      "Correlation =  0.005944001456507458 \n",
      "P_value =  0.1838157578409672\n",
      "Not Significant.\n",
      "\n",
      "Correlation between amount and latitude_of_pickup :\n",
      "Correlation =  -0.007338403223518277 \n",
      "P_value =  0.10081860815435854\n",
      "Not Significant.\n",
      "\n",
      "Correlation between amount and longitude_of_dropoff :\n",
      "Correlation =  0.0042855934105456486 \n",
      "P_value =  0.33792750377417274\n",
      "Not Significant.\n",
      "\n",
      "Correlation between amount and latitude_of_dropoff :\n",
      "Correlation =  -0.005442157211467343 \n",
      "P_value =  0.22364914014294268\n",
      "Not Significant.\n",
      "\n",
      "Correlation between amount and no_of_passenger :\n",
      "Correlation =  0.016582786495278962 \n",
      "P_value =  0.000208749277799925\n",
      "Significant.\n"
     ]
    }
   ],
   "source": [
    "for i in numerical_features:\n",
    "    print(\"\\nCorrelation between amount and\",i,\":\")\n",
    "    correlation,p_value=0,0\n",
    "    correlation,p_value=pearsonr(df[i],df['amount'])\n",
    "    print(\"Correlation = \",correlation,\"\\nP_value = \",p_value)\n",
    "    if p_value>0.05:\n",
    "        print(\"Not Significant.\")\n",
    "    else:\n",
    "        print(\"Significant.\")  "
   ]
  },
  {
   "cell_type": "code",
   "execution_count": 110,
   "id": "fe3ac797",
   "metadata": {},
   "outputs": [],
   "source": [
    "x = df.drop(['amount','unique_id','date_time_of_pickup','latitude_of_dropoff'],axis=1)\n",
    "y = df['amount']\n",
    "train_x,test_x,train_y,test_y = train_test_split(x,y,test_size=0.2,random_state=42)"
   ]
  },
  {
   "cell_type": "code",
   "execution_count": 111,
   "id": "3769776f",
   "metadata": {},
   "outputs": [],
   "source": [
    "scaler=MinMaxScaler()\n",
    "train_x=scaler.fit_transform(train_x)\n",
    "test_x=scaler.transform(test_x)"
   ]
  },
  {
   "cell_type": "code",
   "execution_count": 112,
   "id": "dd6b0840",
   "metadata": {},
   "outputs": [
    {
     "data": {
      "text/plain": [
       "RandomForestRegressor(random_state=42)"
      ]
     },
     "execution_count": 112,
     "metadata": {},
     "output_type": "execute_result"
    }
   ],
   "source": [
    "modelrfr = RandomForestRegressor(random_state=42)\n",
    "modelrfr.fit(train_x,train_y)"
   ]
  },
  {
   "cell_type": "code",
   "execution_count": 113,
   "id": "b84dfaca",
   "metadata": {
    "scrolled": true
   },
   "outputs": [
    {
     "data": {
      "text/plain": [
       "0.928911788995324"
      ]
     },
     "execution_count": 113,
     "metadata": {},
     "output_type": "execute_result"
    }
   ],
   "source": [
    "modelrfr.score(train_x,train_y)"
   ]
  },
  {
   "cell_type": "code",
   "execution_count": 114,
   "id": "c3b2a3b4",
   "metadata": {},
   "outputs": [
    {
     "data": {
      "text/plain": [
       "0.6237053892798992"
      ]
     },
     "execution_count": 114,
     "metadata": {},
     "output_type": "execute_result"
    }
   ],
   "source": [
    "modelrfr.score(test_x,test_y)"
   ]
  },
  {
   "cell_type": "code",
   "execution_count": 78,
   "id": "1fe524ed",
   "metadata": {},
   "outputs": [
    {
     "data": {
      "text/plain": [
       "'rfr_train = r2_score(train_y,modelrfr.predict(train_x))\\nrfr_test = r2_score(test_y,modelrfr.predict(test_x))\\nrmse_rfr_train = mean_squared_error(train_y, modelrfr.predict(train_x), squared=False)\\nrmse_rfr_test = mean_squared_error(test_y, modelrfr.predict(test_x), squared=False)'"
      ]
     },
     "execution_count": 78,
     "metadata": {},
     "output_type": "execute_result"
    }
   ],
   "source": [
    "'''rfr_train = r2_score(train_y,modelrfr.predict(train_x))\n",
    "rfr_test = r2_score(test_y,modelrfr.predict(test_x))\n",
    "rmse_rfr_train = mean_squared_error(train_y, modelrfr.predict(train_x), squared=False)\n",
    "rmse_rfr_test = mean_squared_error(test_y, modelrfr.predict(test_x), squared=False)'''"
   ]
  },
  {
   "cell_type": "code",
   "execution_count": 3,
   "id": "f2e43853",
   "metadata": {},
   "outputs": [],
   "source": [
    "x = df.drop(['amount','unique_id','date_time_of_pickup'],axis=1)\n",
    "y = df['amount']\n",
    "train_x,test_x,train_y,test_y = train_test_split(x,y,test_size=0.2,random_state=42)"
   ]
  },
  {
   "cell_type": "code",
   "execution_count": 4,
   "id": "ac08589f",
   "metadata": {},
   "outputs": [],
   "source": [
    "scaler=MinMaxScaler()\n",
    "train_x=scaler.fit_transform(train_x)\n",
    "test_x=scaler.transform(test_x)"
   ]
  },
  {
   "cell_type": "code",
   "execution_count": 5,
   "id": "2758f2e4",
   "metadata": {},
   "outputs": [
    {
     "data": {
      "text/plain": [
       "RandomForestRegressor(random_state=42)"
      ]
     },
     "execution_count": 5,
     "metadata": {},
     "output_type": "execute_result"
    }
   ],
   "source": [
    "modelrfr = RandomForestRegressor(random_state=42)\n",
    "modelrfr.fit(train_x,train_y)"
   ]
  },
  {
   "cell_type": "code",
   "execution_count": 6,
   "id": "ce43f797",
   "metadata": {},
   "outputs": [
    {
     "data": {
      "text/plain": [
       "0.944875349948034"
      ]
     },
     "execution_count": 6,
     "metadata": {},
     "output_type": "execute_result"
    }
   ],
   "source": [
    "modelrfr.score(train_x,train_y)"
   ]
  },
  {
   "cell_type": "code",
   "execution_count": 119,
   "id": "b00cfbfd",
   "metadata": {},
   "outputs": [
    {
     "data": {
      "text/plain": [
       "0.7297559925292163"
      ]
     },
     "execution_count": 119,
     "metadata": {},
     "output_type": "execute_result"
    }
   ],
   "source": [
    "modelrfr.score(test_x,test_y)"
   ]
  },
  {
   "cell_type": "code",
   "execution_count": 90,
   "id": "29c961e8",
   "metadata": {},
   "outputs": [],
   "source": [
    "kf=KFold(n_splits=5)"
   ]
  },
  {
   "cell_type": "code",
   "execution_count": 91,
   "id": "e305fcf2",
   "metadata": {},
   "outputs": [],
   "source": [
    "score=cross_val_score(modelrfr,train_x,train_y,cv=kf)"
   ]
  },
  {
   "cell_type": "code",
   "execution_count": 92,
   "id": "b80dc0d6",
   "metadata": {},
   "outputs": [
    {
     "data": {
      "text/plain": [
       "array([0.70558802, 0.72645188, 0.75477063, 0.76719934, 0.74550829])"
      ]
     },
     "execution_count": 92,
     "metadata": {},
     "output_type": "execute_result"
    }
   ],
   "source": [
    "score"
   ]
  },
  {
   "cell_type": "code",
   "execution_count": 134,
   "id": "bcf773c2",
   "metadata": {},
   "outputs": [
    {
     "data": {
      "text/plain": [
       "0.7399036346419928"
      ]
     },
     "execution_count": 134,
     "metadata": {},
     "output_type": "execute_result"
    }
   ],
   "source": [
    "score.mean()"
   ]
  },
  {
   "cell_type": "code",
   "execution_count": 20,
   "id": "9a9befc0",
   "metadata": {},
   "outputs": [
    {
     "data": {
      "text/plain": [
       "GridSearchCV(cv=5, estimator=RandomForestRegressor(),\n",
       "             param_grid={'max_depth': [2, 5, 8],\n",
       "                         'max_features': ['auto', 'sqrt', 'log2'],\n",
       "                         'n_estimators': [10, 50, 100]})"
      ]
     },
     "execution_count": 20,
     "metadata": {},
     "output_type": "execute_result"
    }
   ],
   "source": [
    "clf = GridSearchCV(RandomForestRegressor(),{\n",
    "    'n_estimators':[10,50,100],\n",
    "    'max_depth' : [2,5,8],\n",
    "    'max_features' : ['auto','sqrt','log2']\n",
    "},  cv = 5, return_train_score=False)\n",
    "\n",
    "clf.fit(train_x,train_y)\n"
   ]
  },
  {
   "cell_type": "code",
   "execution_count": 21,
   "id": "e925e8c0",
   "metadata": {},
   "outputs": [
    {
     "data": {
      "text/plain": [
       "{'mean_fit_time': array([0.28137922, 1.32164855, 2.9385735 , 0.15296173, 0.64656363,\n",
       "        1.27072091, 0.1392345 , 0.64656343, 1.28672338, 0.63695722,\n",
       "        3.11278033, 6.28957567, 0.26566105, 1.39394846, 2.78402438,\n",
       "        0.28967137, 1.39554963, 2.79910264, 0.97143922, 4.83161225,\n",
       "        9.70264068, 0.44651017, 2.15093956, 4.27947435, 0.42730436,\n",
       "        2.15574417, 4.32108297]),\n",
       " 'std_fit_time': array([0.00237851, 0.29877803, 0.04793356, 0.01671391, 0.01176108,\n",
       "        0.01852661, 0.01647395, 0.02790423, 0.01709262, 0.02610205,\n",
       "        0.01339799, 0.05160988, 0.00784097, 0.04154867, 0.01304597,\n",
       "        0.01175954, 0.02509239, 0.04365469, 0.01933725, 0.05146298,\n",
       "        0.05972353, 0.02550823, 0.01551895, 0.03628629, 0.01395044,\n",
       "        0.06190611, 0.05450699]),\n",
       " 'mean_score_time': array([0.        , 0.01312227, 0.03140993, 0.00673981, 0.01440277,\n",
       "        0.02560477, 0.00320172, 0.01440244, 0.02400579, 0.00640488,\n",
       "        0.01920567, 0.03681188, 0.00800462, 0.01920571, 0.03360958,\n",
       "        0.00640278, 0.01600857, 0.03680692, 0.00800691, 0.02080517,\n",
       "        0.04961042, 0.00800428, 0.02400622, 0.04481096, 0.00640383,\n",
       "        0.02400312, 0.04641294]),\n",
       " 'std_score_time': array([0.00000000e+00, 5.19662411e-03, 1.15328259e-02, 6.54324314e-03,\n",
       "        5.98672872e-03, 3.19955449e-03, 3.92129396e-03, 3.19888643e-03,\n",
       "        7.00804637e-07, 3.20243849e-03, 3.92024284e-03, 3.92542567e-03,\n",
       "        1.25617408e-06, 3.92010653e-03, 3.20043571e-03, 3.20139025e-03,\n",
       "        6.96476130e-06, 6.39574576e-03, 3.23406696e-07, 3.92055439e-03,\n",
       "        3.19383161e-03, 1.81323560e-06, 6.32595976e-07, 3.91989236e-03,\n",
       "        3.20191389e-03, 6.96345532e-06, 3.20005426e-03]),\n",
       " 'param_max_depth': masked_array(data=[2, 2, 2, 2, 2, 2, 2, 2, 2, 5, 5, 5, 5, 5, 5, 5, 5, 5,\n",
       "                    8, 8, 8, 8, 8, 8, 8, 8, 8],\n",
       "              mask=[False, False, False, False, False, False, False, False,\n",
       "                    False, False, False, False, False, False, False, False,\n",
       "                    False, False, False, False, False, False, False, False,\n",
       "                    False, False, False],\n",
       "        fill_value='?',\n",
       "             dtype=object),\n",
       " 'param_max_features': masked_array(data=['auto', 'auto', 'auto', 'sqrt', 'sqrt', 'sqrt', 'log2',\n",
       "                    'log2', 'log2', 'auto', 'auto', 'auto', 'sqrt', 'sqrt',\n",
       "                    'sqrt', 'log2', 'log2', 'log2', 'auto', 'auto', 'auto',\n",
       "                    'sqrt', 'sqrt', 'sqrt', 'log2', 'log2', 'log2'],\n",
       "              mask=[False, False, False, False, False, False, False, False,\n",
       "                    False, False, False, False, False, False, False, False,\n",
       "                    False, False, False, False, False, False, False, False,\n",
       "                    False, False, False],\n",
       "        fill_value='?',\n",
       "             dtype=object),\n",
       " 'param_n_estimators': masked_array(data=[10, 50, 100, 10, 50, 100, 10, 50, 100, 10, 50, 100, 10,\n",
       "                    50, 100, 10, 50, 100, 10, 50, 100, 10, 50, 100, 10, 50,\n",
       "                    100],\n",
       "              mask=[False, False, False, False, False, False, False, False,\n",
       "                    False, False, False, False, False, False, False, False,\n",
       "                    False, False, False, False, False, False, False, False,\n",
       "                    False, False, False],\n",
       "        fill_value='?',\n",
       "             dtype=object),\n",
       " 'params': [{'max_depth': 2, 'max_features': 'auto', 'n_estimators': 10},\n",
       "  {'max_depth': 2, 'max_features': 'auto', 'n_estimators': 50},\n",
       "  {'max_depth': 2, 'max_features': 'auto', 'n_estimators': 100},\n",
       "  {'max_depth': 2, 'max_features': 'sqrt', 'n_estimators': 10},\n",
       "  {'max_depth': 2, 'max_features': 'sqrt', 'n_estimators': 50},\n",
       "  {'max_depth': 2, 'max_features': 'sqrt', 'n_estimators': 100},\n",
       "  {'max_depth': 2, 'max_features': 'log2', 'n_estimators': 10},\n",
       "  {'max_depth': 2, 'max_features': 'log2', 'n_estimators': 50},\n",
       "  {'max_depth': 2, 'max_features': 'log2', 'n_estimators': 100},\n",
       "  {'max_depth': 5, 'max_features': 'auto', 'n_estimators': 10},\n",
       "  {'max_depth': 5, 'max_features': 'auto', 'n_estimators': 50},\n",
       "  {'max_depth': 5, 'max_features': 'auto', 'n_estimators': 100},\n",
       "  {'max_depth': 5, 'max_features': 'sqrt', 'n_estimators': 10},\n",
       "  {'max_depth': 5, 'max_features': 'sqrt', 'n_estimators': 50},\n",
       "  {'max_depth': 5, 'max_features': 'sqrt', 'n_estimators': 100},\n",
       "  {'max_depth': 5, 'max_features': 'log2', 'n_estimators': 10},\n",
       "  {'max_depth': 5, 'max_features': 'log2', 'n_estimators': 50},\n",
       "  {'max_depth': 5, 'max_features': 'log2', 'n_estimators': 100},\n",
       "  {'max_depth': 8, 'max_features': 'auto', 'n_estimators': 10},\n",
       "  {'max_depth': 8, 'max_features': 'auto', 'n_estimators': 50},\n",
       "  {'max_depth': 8, 'max_features': 'auto', 'n_estimators': 100},\n",
       "  {'max_depth': 8, 'max_features': 'sqrt', 'n_estimators': 10},\n",
       "  {'max_depth': 8, 'max_features': 'sqrt', 'n_estimators': 50},\n",
       "  {'max_depth': 8, 'max_features': 'sqrt', 'n_estimators': 100},\n",
       "  {'max_depth': 8, 'max_features': 'log2', 'n_estimators': 10},\n",
       "  {'max_depth': 8, 'max_features': 'log2', 'n_estimators': 50},\n",
       "  {'max_depth': 8, 'max_features': 'log2', 'n_estimators': 100}],\n",
       " 'split0_test_score': array([0.39899311, 0.40081003, 0.40178209, 0.37021732, 0.41899943,\n",
       "        0.40779726, 0.38126097, 0.40994815, 0.40881968, 0.56889566,\n",
       "        0.57700443, 0.5764007 , 0.56385112, 0.57898026, 0.57873894,\n",
       "        0.57363155, 0.57327378, 0.57853664, 0.61776671, 0.62020966,\n",
       "        0.62481489, 0.60944837, 0.63368539, 0.63409382, 0.61825936,\n",
       "        0.62958535, 0.63144707]),\n",
       " 'split1_test_score': array([0.41290062, 0.41494443, 0.41481142, 0.4172727 , 0.42873754,\n",
       "        0.42644967, 0.41209073, 0.42120064, 0.43057187, 0.5712675 ,\n",
       "        0.57648964, 0.579574  , 0.57430737, 0.58802054, 0.58900975,\n",
       "        0.57693565, 0.58538885, 0.59102363, 0.63442948, 0.63347527,\n",
       "        0.63854257, 0.63787213, 0.64042057, 0.64464152, 0.63380566,\n",
       "        0.63751442, 0.64247736]),\n",
       " 'split2_test_score': array([0.43009809, 0.42630595, 0.42630396, 0.43100403, 0.45008998,\n",
       "        0.4462883 , 0.43857212, 0.43393018, 0.43274197, 0.60329359,\n",
       "        0.60276588, 0.6051313 , 0.61628665, 0.60578663, 0.60754757,\n",
       "        0.60438726, 0.60788344, 0.60331788, 0.6642298 , 0.66727867,\n",
       "        0.67026837, 0.66383541, 0.66347837, 0.66375122, 0.66018955,\n",
       "        0.66502061, 0.66055814]),\n",
       " 'split3_test_score': array([0.40385738, 0.40278027, 0.40309573, 0.37975443, 0.40058824,\n",
       "        0.41320484, 0.41405346, 0.41001077, 0.42139775, 0.61650227,\n",
       "        0.62051588, 0.61997323, 0.59588369, 0.61553956, 0.61754314,\n",
       "        0.61483964, 0.61947583, 0.6174116 , 0.6618482 , 0.67564124,\n",
       "        0.67809979, 0.6703618 , 0.67285715, 0.67553488, 0.66621829,\n",
       "        0.67649599, 0.67414999]),\n",
       " 'split4_test_score': array([0.4221179 , 0.42374062, 0.42412837, 0.41570459, 0.42886978,\n",
       "        0.44831116, 0.43112162, 0.44025001, 0.44439722, 0.60475561,\n",
       "        0.60605908, 0.60924495, 0.60783863, 0.61376778, 0.6159686 ,\n",
       "        0.60334392, 0.60813857, 0.61727743, 0.65255803, 0.66395887,\n",
       "        0.66069167, 0.67194602, 0.67277923, 0.670176  , 0.65738653,\n",
       "        0.66977549, 0.6640244 ]),\n",
       " 'mean_test_score': array([0.41359342, 0.41371626, 0.41402431, 0.40279061, 0.42545699,\n",
       "        0.42841025, 0.41541978, 0.42306795, 0.4275857 , 0.59294293,\n",
       "        0.59656698, 0.59806484, 0.59163349, 0.60041896, 0.6017616 ,\n",
       "        0.5946276 , 0.59883209, 0.60151344, 0.64616644, 0.65211274,\n",
       "        0.65448346, 0.65069275, 0.65664414, 0.65763949, 0.64717188,\n",
       "        0.65567837, 0.65453139]),\n",
       " 'std_test_score': array([0.0114325 , 0.01045623, 0.01022553, 0.02351248, 0.01605832,\n",
       "        0.01658683, 0.01981087, 0.01232329, 0.0119045 , 0.01923441,\n",
       "        0.01725033, 0.01712398, 0.01980153, 0.0144843 , 0.01534292,\n",
       "        0.01633151, 0.01690355, 0.01511609, 0.01764854, 0.02139668,\n",
       "        0.0198986 , 0.02398654, 0.01649375, 0.015736  , 0.01817225,\n",
       "        0.01860191, 0.0154241 ]),\n",
       " 'rank_test_score': array([26, 25, 24, 27, 21, 19, 23, 22, 20, 17, 15, 14, 18, 12, 10, 16, 13,\n",
       "        11,  9,  6,  5,  7,  2,  1,  8,  3,  4])}"
      ]
     },
     "execution_count": 21,
     "metadata": {},
     "output_type": "execute_result"
    }
   ],
   "source": [
    "clf.cv_results_"
   ]
  },
  {
   "cell_type": "code",
   "execution_count": 22,
   "id": "c3f48657",
   "metadata": {},
   "outputs": [],
   "source": [
    "clf_df = pd.DataFrame(clf.cv_results_)"
   ]
  },
  {
   "cell_type": "code",
   "execution_count": 36,
   "id": "09a51dc6",
   "metadata": {},
   "outputs": [
    {
     "data": {
      "text/html": [
       "<div>\n",
       "<style scoped>\n",
       "    .dataframe tbody tr th:only-of-type {\n",
       "        vertical-align: middle;\n",
       "    }\n",
       "\n",
       "    .dataframe tbody tr th {\n",
       "        vertical-align: top;\n",
       "    }\n",
       "\n",
       "    .dataframe thead th {\n",
       "        text-align: right;\n",
       "    }\n",
       "</style>\n",
       "<table border=\"1\" class=\"dataframe\">\n",
       "  <thead>\n",
       "    <tr style=\"text-align: right;\">\n",
       "      <th></th>\n",
       "      <th>mean_fit_time</th>\n",
       "      <th>std_fit_time</th>\n",
       "      <th>mean_score_time</th>\n",
       "      <th>std_score_time</th>\n",
       "      <th>param_max_depth</th>\n",
       "      <th>param_max_features</th>\n",
       "      <th>param_n_estimators</th>\n",
       "      <th>params</th>\n",
       "      <th>split0_test_score</th>\n",
       "      <th>split1_test_score</th>\n",
       "      <th>split2_test_score</th>\n",
       "      <th>split3_test_score</th>\n",
       "      <th>split4_test_score</th>\n",
       "      <th>mean_test_score</th>\n",
       "      <th>std_test_score</th>\n",
       "      <th>rank_test_score</th>\n",
       "    </tr>\n",
       "  </thead>\n",
       "  <tbody>\n",
       "    <tr>\n",
       "      <th>0</th>\n",
       "      <td>0.281379</td>\n",
       "      <td>0.002379</td>\n",
       "      <td>0.000000</td>\n",
       "      <td>0.000000</td>\n",
       "      <td>2</td>\n",
       "      <td>auto</td>\n",
       "      <td>10</td>\n",
       "      <td>{'max_depth': 2, 'max_features': 'auto', 'n_es...</td>\n",
       "      <td>0.398993</td>\n",
       "      <td>0.412901</td>\n",
       "      <td>0.430098</td>\n",
       "      <td>0.403857</td>\n",
       "      <td>0.422118</td>\n",
       "      <td>0.413593</td>\n",
       "      <td>0.011433</td>\n",
       "      <td>26</td>\n",
       "    </tr>\n",
       "    <tr>\n",
       "      <th>1</th>\n",
       "      <td>1.321649</td>\n",
       "      <td>0.298778</td>\n",
       "      <td>0.013122</td>\n",
       "      <td>0.005197</td>\n",
       "      <td>2</td>\n",
       "      <td>auto</td>\n",
       "      <td>50</td>\n",
       "      <td>{'max_depth': 2, 'max_features': 'auto', 'n_es...</td>\n",
       "      <td>0.400810</td>\n",
       "      <td>0.414944</td>\n",
       "      <td>0.426306</td>\n",
       "      <td>0.402780</td>\n",
       "      <td>0.423741</td>\n",
       "      <td>0.413716</td>\n",
       "      <td>0.010456</td>\n",
       "      <td>25</td>\n",
       "    </tr>\n",
       "    <tr>\n",
       "      <th>2</th>\n",
       "      <td>2.938574</td>\n",
       "      <td>0.047934</td>\n",
       "      <td>0.031410</td>\n",
       "      <td>0.011533</td>\n",
       "      <td>2</td>\n",
       "      <td>auto</td>\n",
       "      <td>100</td>\n",
       "      <td>{'max_depth': 2, 'max_features': 'auto', 'n_es...</td>\n",
       "      <td>0.401782</td>\n",
       "      <td>0.414811</td>\n",
       "      <td>0.426304</td>\n",
       "      <td>0.403096</td>\n",
       "      <td>0.424128</td>\n",
       "      <td>0.414024</td>\n",
       "      <td>0.010226</td>\n",
       "      <td>24</td>\n",
       "    </tr>\n",
       "    <tr>\n",
       "      <th>3</th>\n",
       "      <td>0.152962</td>\n",
       "      <td>0.016714</td>\n",
       "      <td>0.006740</td>\n",
       "      <td>0.006543</td>\n",
       "      <td>2</td>\n",
       "      <td>sqrt</td>\n",
       "      <td>10</td>\n",
       "      <td>{'max_depth': 2, 'max_features': 'sqrt', 'n_es...</td>\n",
       "      <td>0.370217</td>\n",
       "      <td>0.417273</td>\n",
       "      <td>0.431004</td>\n",
       "      <td>0.379754</td>\n",
       "      <td>0.415705</td>\n",
       "      <td>0.402791</td>\n",
       "      <td>0.023512</td>\n",
       "      <td>27</td>\n",
       "    </tr>\n",
       "    <tr>\n",
       "      <th>4</th>\n",
       "      <td>0.646564</td>\n",
       "      <td>0.011761</td>\n",
       "      <td>0.014403</td>\n",
       "      <td>0.005987</td>\n",
       "      <td>2</td>\n",
       "      <td>sqrt</td>\n",
       "      <td>50</td>\n",
       "      <td>{'max_depth': 2, 'max_features': 'sqrt', 'n_es...</td>\n",
       "      <td>0.418999</td>\n",
       "      <td>0.428738</td>\n",
       "      <td>0.450090</td>\n",
       "      <td>0.400588</td>\n",
       "      <td>0.428870</td>\n",
       "      <td>0.425457</td>\n",
       "      <td>0.016058</td>\n",
       "      <td>21</td>\n",
       "    </tr>\n",
       "  </tbody>\n",
       "</table>\n",
       "</div>"
      ],
      "text/plain": [
       "   mean_fit_time  std_fit_time  mean_score_time  std_score_time  \\\n",
       "0       0.281379      0.002379         0.000000        0.000000   \n",
       "1       1.321649      0.298778         0.013122        0.005197   \n",
       "2       2.938574      0.047934         0.031410        0.011533   \n",
       "3       0.152962      0.016714         0.006740        0.006543   \n",
       "4       0.646564      0.011761         0.014403        0.005987   \n",
       "\n",
       "  param_max_depth param_max_features param_n_estimators  \\\n",
       "0               2               auto                 10   \n",
       "1               2               auto                 50   \n",
       "2               2               auto                100   \n",
       "3               2               sqrt                 10   \n",
       "4               2               sqrt                 50   \n",
       "\n",
       "                                              params  split0_test_score  \\\n",
       "0  {'max_depth': 2, 'max_features': 'auto', 'n_es...           0.398993   \n",
       "1  {'max_depth': 2, 'max_features': 'auto', 'n_es...           0.400810   \n",
       "2  {'max_depth': 2, 'max_features': 'auto', 'n_es...           0.401782   \n",
       "3  {'max_depth': 2, 'max_features': 'sqrt', 'n_es...           0.370217   \n",
       "4  {'max_depth': 2, 'max_features': 'sqrt', 'n_es...           0.418999   \n",
       "\n",
       "   split1_test_score  split2_test_score  split3_test_score  split4_test_score  \\\n",
       "0           0.412901           0.430098           0.403857           0.422118   \n",
       "1           0.414944           0.426306           0.402780           0.423741   \n",
       "2           0.414811           0.426304           0.403096           0.424128   \n",
       "3           0.417273           0.431004           0.379754           0.415705   \n",
       "4           0.428738           0.450090           0.400588           0.428870   \n",
       "\n",
       "   mean_test_score  std_test_score  rank_test_score  \n",
       "0         0.413593        0.011433               26  \n",
       "1         0.413716        0.010456               25  \n",
       "2         0.414024        0.010226               24  \n",
       "3         0.402791        0.023512               27  \n",
       "4         0.425457        0.016058               21  "
      ]
     },
     "execution_count": 36,
     "metadata": {},
     "output_type": "execute_result"
    }
   ],
   "source": [
    "clf_df.head()"
   ]
  },
  {
   "cell_type": "code",
   "execution_count": 24,
   "id": "e19fd57b",
   "metadata": {},
   "outputs": [
    {
     "data": {
      "text/plain": [
       "{'max_depth': 8, 'max_features': 'sqrt', 'n_estimators': 100}"
      ]
     },
     "execution_count": 24,
     "metadata": {},
     "output_type": "execute_result"
    }
   ],
   "source": [
    "clf.best_params_"
   ]
  },
  {
   "cell_type": "code",
   "execution_count": 35,
   "id": "7524d60a",
   "metadata": {},
   "outputs": [
    {
     "data": {
      "text/plain": [
       "0.6576394877967424"
      ]
     },
     "execution_count": 35,
     "metadata": {},
     "output_type": "execute_result"
    }
   ],
   "source": [
    "clf.best_score_"
   ]
  },
  {
   "cell_type": "code",
   "execution_count": 41,
   "id": "f3c92bf1",
   "metadata": {},
   "outputs": [
    {
     "data": {
      "text/html": [
       "<div>\n",
       "<style scoped>\n",
       "    .dataframe tbody tr th:only-of-type {\n",
       "        vertical-align: middle;\n",
       "    }\n",
       "\n",
       "    .dataframe tbody tr th {\n",
       "        vertical-align: top;\n",
       "    }\n",
       "\n",
       "    .dataframe thead th {\n",
       "        text-align: right;\n",
       "    }\n",
       "</style>\n",
       "<table border=\"1\" class=\"dataframe\">\n",
       "  <thead>\n",
       "    <tr style=\"text-align: right;\">\n",
       "      <th></th>\n",
       "      <th>param_max_depth</th>\n",
       "      <th>param_max_features</th>\n",
       "      <th>param_n_estimators</th>\n",
       "      <th>mean_test_score</th>\n",
       "    </tr>\n",
       "  </thead>\n",
       "  <tbody>\n",
       "    <tr>\n",
       "      <th>0</th>\n",
       "      <td>2</td>\n",
       "      <td>auto</td>\n",
       "      <td>10</td>\n",
       "      <td>0.413593</td>\n",
       "    </tr>\n",
       "    <tr>\n",
       "      <th>1</th>\n",
       "      <td>2</td>\n",
       "      <td>auto</td>\n",
       "      <td>50</td>\n",
       "      <td>0.413716</td>\n",
       "    </tr>\n",
       "    <tr>\n",
       "      <th>2</th>\n",
       "      <td>2</td>\n",
       "      <td>auto</td>\n",
       "      <td>100</td>\n",
       "      <td>0.414024</td>\n",
       "    </tr>\n",
       "    <tr>\n",
       "      <th>3</th>\n",
       "      <td>2</td>\n",
       "      <td>sqrt</td>\n",
       "      <td>10</td>\n",
       "      <td>0.402791</td>\n",
       "    </tr>\n",
       "    <tr>\n",
       "      <th>4</th>\n",
       "      <td>2</td>\n",
       "      <td>sqrt</td>\n",
       "      <td>50</td>\n",
       "      <td>0.425457</td>\n",
       "    </tr>\n",
       "    <tr>\n",
       "      <th>5</th>\n",
       "      <td>2</td>\n",
       "      <td>sqrt</td>\n",
       "      <td>100</td>\n",
       "      <td>0.428410</td>\n",
       "    </tr>\n",
       "    <tr>\n",
       "      <th>6</th>\n",
       "      <td>2</td>\n",
       "      <td>log2</td>\n",
       "      <td>10</td>\n",
       "      <td>0.415420</td>\n",
       "    </tr>\n",
       "    <tr>\n",
       "      <th>7</th>\n",
       "      <td>2</td>\n",
       "      <td>log2</td>\n",
       "      <td>50</td>\n",
       "      <td>0.423068</td>\n",
       "    </tr>\n",
       "    <tr>\n",
       "      <th>8</th>\n",
       "      <td>2</td>\n",
       "      <td>log2</td>\n",
       "      <td>100</td>\n",
       "      <td>0.427586</td>\n",
       "    </tr>\n",
       "    <tr>\n",
       "      <th>9</th>\n",
       "      <td>5</td>\n",
       "      <td>auto</td>\n",
       "      <td>10</td>\n",
       "      <td>0.592943</td>\n",
       "    </tr>\n",
       "    <tr>\n",
       "      <th>10</th>\n",
       "      <td>5</td>\n",
       "      <td>auto</td>\n",
       "      <td>50</td>\n",
       "      <td>0.596567</td>\n",
       "    </tr>\n",
       "    <tr>\n",
       "      <th>11</th>\n",
       "      <td>5</td>\n",
       "      <td>auto</td>\n",
       "      <td>100</td>\n",
       "      <td>0.598065</td>\n",
       "    </tr>\n",
       "    <tr>\n",
       "      <th>12</th>\n",
       "      <td>5</td>\n",
       "      <td>sqrt</td>\n",
       "      <td>10</td>\n",
       "      <td>0.591633</td>\n",
       "    </tr>\n",
       "    <tr>\n",
       "      <th>13</th>\n",
       "      <td>5</td>\n",
       "      <td>sqrt</td>\n",
       "      <td>50</td>\n",
       "      <td>0.600419</td>\n",
       "    </tr>\n",
       "    <tr>\n",
       "      <th>14</th>\n",
       "      <td>5</td>\n",
       "      <td>sqrt</td>\n",
       "      <td>100</td>\n",
       "      <td>0.601762</td>\n",
       "    </tr>\n",
       "    <tr>\n",
       "      <th>15</th>\n",
       "      <td>5</td>\n",
       "      <td>log2</td>\n",
       "      <td>10</td>\n",
       "      <td>0.594628</td>\n",
       "    </tr>\n",
       "    <tr>\n",
       "      <th>16</th>\n",
       "      <td>5</td>\n",
       "      <td>log2</td>\n",
       "      <td>50</td>\n",
       "      <td>0.598832</td>\n",
       "    </tr>\n",
       "    <tr>\n",
       "      <th>17</th>\n",
       "      <td>5</td>\n",
       "      <td>log2</td>\n",
       "      <td>100</td>\n",
       "      <td>0.601513</td>\n",
       "    </tr>\n",
       "    <tr>\n",
       "      <th>18</th>\n",
       "      <td>8</td>\n",
       "      <td>auto</td>\n",
       "      <td>10</td>\n",
       "      <td>0.646166</td>\n",
       "    </tr>\n",
       "    <tr>\n",
       "      <th>19</th>\n",
       "      <td>8</td>\n",
       "      <td>auto</td>\n",
       "      <td>50</td>\n",
       "      <td>0.652113</td>\n",
       "    </tr>\n",
       "    <tr>\n",
       "      <th>20</th>\n",
       "      <td>8</td>\n",
       "      <td>auto</td>\n",
       "      <td>100</td>\n",
       "      <td>0.654483</td>\n",
       "    </tr>\n",
       "    <tr>\n",
       "      <th>21</th>\n",
       "      <td>8</td>\n",
       "      <td>sqrt</td>\n",
       "      <td>10</td>\n",
       "      <td>0.650693</td>\n",
       "    </tr>\n",
       "    <tr>\n",
       "      <th>22</th>\n",
       "      <td>8</td>\n",
       "      <td>sqrt</td>\n",
       "      <td>50</td>\n",
       "      <td>0.656644</td>\n",
       "    </tr>\n",
       "    <tr>\n",
       "      <th>23</th>\n",
       "      <td>8</td>\n",
       "      <td>sqrt</td>\n",
       "      <td>100</td>\n",
       "      <td>0.657639</td>\n",
       "    </tr>\n",
       "    <tr>\n",
       "      <th>24</th>\n",
       "      <td>8</td>\n",
       "      <td>log2</td>\n",
       "      <td>10</td>\n",
       "      <td>0.647172</td>\n",
       "    </tr>\n",
       "    <tr>\n",
       "      <th>25</th>\n",
       "      <td>8</td>\n",
       "      <td>log2</td>\n",
       "      <td>50</td>\n",
       "      <td>0.655678</td>\n",
       "    </tr>\n",
       "    <tr>\n",
       "      <th>26</th>\n",
       "      <td>8</td>\n",
       "      <td>log2</td>\n",
       "      <td>100</td>\n",
       "      <td>0.654531</td>\n",
       "    </tr>\n",
       "  </tbody>\n",
       "</table>\n",
       "</div>"
      ],
      "text/plain": [
       "   param_max_depth param_max_features param_n_estimators  mean_test_score\n",
       "0                2               auto                 10         0.413593\n",
       "1                2               auto                 50         0.413716\n",
       "2                2               auto                100         0.414024\n",
       "3                2               sqrt                 10         0.402791\n",
       "4                2               sqrt                 50         0.425457\n",
       "5                2               sqrt                100         0.428410\n",
       "6                2               log2                 10         0.415420\n",
       "7                2               log2                 50         0.423068\n",
       "8                2               log2                100         0.427586\n",
       "9                5               auto                 10         0.592943\n",
       "10               5               auto                 50         0.596567\n",
       "11               5               auto                100         0.598065\n",
       "12               5               sqrt                 10         0.591633\n",
       "13               5               sqrt                 50         0.600419\n",
       "14               5               sqrt                100         0.601762\n",
       "15               5               log2                 10         0.594628\n",
       "16               5               log2                 50         0.598832\n",
       "17               5               log2                100         0.601513\n",
       "18               8               auto                 10         0.646166\n",
       "19               8               auto                 50         0.652113\n",
       "20               8               auto                100         0.654483\n",
       "21               8               sqrt                 10         0.650693\n",
       "22               8               sqrt                 50         0.656644\n",
       "23               8               sqrt                100         0.657639\n",
       "24               8               log2                 10         0.647172\n",
       "25               8               log2                 50         0.655678\n",
       "26               8               log2                100         0.654531"
      ]
     },
     "execution_count": 41,
     "metadata": {},
     "output_type": "execute_result"
    }
   ],
   "source": [
    "clf_df[['param_max_depth','param_max_features','param_n_estimators','mean_test_score']]"
   ]
  },
  {
   "cell_type": "code",
   "execution_count": 15,
   "id": "989da232",
   "metadata": {},
   "outputs": [
    {
     "data": {
      "text/plain": [
       "['__abstractmethods__',\n",
       " '__class__',\n",
       " '__delattr__',\n",
       " '__dict__',\n",
       " '__dir__',\n",
       " '__doc__',\n",
       " '__eq__',\n",
       " '__format__',\n",
       " '__ge__',\n",
       " '__getattribute__',\n",
       " '__getstate__',\n",
       " '__gt__',\n",
       " '__hash__',\n",
       " '__init__',\n",
       " '__init_subclass__',\n",
       " '__le__',\n",
       " '__lt__',\n",
       " '__module__',\n",
       " '__ne__',\n",
       " '__new__',\n",
       " '__reduce__',\n",
       " '__reduce_ex__',\n",
       " '__repr__',\n",
       " '__setattr__',\n",
       " '__setstate__',\n",
       " '__sizeof__',\n",
       " '__str__',\n",
       " '__subclasshook__',\n",
       " '__weakref__',\n",
       " '_abc_impl',\n",
       " '_check_is_fitted',\n",
       " '_check_n_features',\n",
       " '_check_refit_for_multimetric',\n",
       " '_estimator_type',\n",
       " '_format_results',\n",
       " '_get_param_names',\n",
       " '_get_tags',\n",
       " '_more_tags',\n",
       " '_pairwise',\n",
       " '_repr_html_',\n",
       " '_repr_html_inner',\n",
       " '_repr_mimebundle_',\n",
       " '_required_parameters',\n",
       " '_run_search',\n",
       " '_validate_data',\n",
       " 'best_estimator_',\n",
       " 'best_index_',\n",
       " 'best_params_',\n",
       " 'best_score_',\n",
       " 'classes_',\n",
       " 'cv',\n",
       " 'cv_results_',\n",
       " 'decision_function',\n",
       " 'error_score',\n",
       " 'estimator',\n",
       " 'fit',\n",
       " 'get_params',\n",
       " 'inverse_transform',\n",
       " 'multimetric_',\n",
       " 'n_features_in_',\n",
       " 'n_jobs',\n",
       " 'n_splits_',\n",
       " 'param_grid',\n",
       " 'pre_dispatch',\n",
       " 'predict',\n",
       " 'predict_log_proba',\n",
       " 'predict_proba',\n",
       " 'refit',\n",
       " 'refit_time_',\n",
       " 'return_train_score',\n",
       " 'score',\n",
       " 'score_samples',\n",
       " 'scorer_',\n",
       " 'scoring',\n",
       " 'set_params',\n",
       " 'transform',\n",
       " 'verbose']"
      ]
     },
     "execution_count": 15,
     "metadata": {},
     "output_type": "execute_result"
    }
   ],
   "source": [
    "dir(clf)"
   ]
  },
  {
   "cell_type": "code",
   "execution_count": 13,
   "id": "609b15c7",
   "metadata": {},
   "outputs": [
    {
     "data": {
      "text/plain": [
       "<bound method BaseSearchCV.score of GridSearchCV(cv=5, estimator=RandomForestRegressor(),\n",
       "             param_grid={'criterion': ['squared_error', 'absolute_error',\n",
       "                                       'poisson'],\n",
       "                         'max_depth': [2, 5, 8],\n",
       "                         'max_features': ['auto', 'sqrt', 'log2'],\n",
       "                         'n_estimators': [10, 50, 100]})>"
      ]
     },
     "execution_count": 13,
     "metadata": {},
     "output_type": "execute_result"
    }
   ],
   "source": [
    "clf.score"
   ]
  },
  {
   "cell_type": "code",
   "execution_count": 139,
   "id": "a3c6a998",
   "metadata": {},
   "outputs": [
    {
     "name": "stdout",
     "output_type": "stream",
     "text": [
      "Collecting package metadata (current_repodata.json): ...working... done\n",
      "Note: you may need to restart the kernel to use updated packages.\n",
      "\n",
      "Solving environment: ...working... failed with initial frozen solve. Retrying with flexible solve.\n",
      "Collecting package metadata (repodata.json): ...working... done\n",
      "Solving environment: ...working... failed with initial frozen solve. Retrying with flexible solve.\n"
     ]
    },
    {
     "name": "stderr",
     "output_type": "stream",
     "text": [
      "\n",
      "PackagesNotFoundError: The following packages are not available from current channels:\n",
      "\n",
      "  - scikit-learn=0.17\n",
      "\n",
      "Current channels:\n",
      "\n",
      "  - https://repo.anaconda.com/pkgs/main/win-64\n",
      "  - https://repo.anaconda.com/pkgs/main/noarch\n",
      "  - https://repo.anaconda.com/pkgs/r/win-64\n",
      "  - https://repo.anaconda.com/pkgs/r/noarch\n",
      "  - https://repo.anaconda.com/pkgs/msys2/win-64\n",
      "  - https://repo.anaconda.com/pkgs/msys2/noarch\n",
      "\n",
      "To search for alternate channels that may provide the conda package you're\n",
      "looking for, navigate to\n",
      "\n",
      "    https://anaconda.org\n",
      "\n",
      "and use the search bar at the top of the page.\n",
      "\n",
      "\n"
     ]
    }
   ],
   "source": [
    "conda install scikit-learn=0.17"
   ]
  },
  {
   "cell_type": "code",
   "execution_count": null,
   "id": "6294bb1f",
   "metadata": {},
   "outputs": [],
   "source": []
  }
 ],
 "metadata": {
  "kernelspec": {
   "display_name": "Python 3 (ipykernel)",
   "language": "python",
   "name": "python3"
  },
  "language_info": {
   "codemirror_mode": {
    "name": "ipython",
    "version": 3
   },
   "file_extension": ".py",
   "mimetype": "text/x-python",
   "name": "python",
   "nbconvert_exporter": "python",
   "pygments_lexer": "ipython3",
   "version": "3.9.7"
  }
 },
 "nbformat": 4,
 "nbformat_minor": 5
}
